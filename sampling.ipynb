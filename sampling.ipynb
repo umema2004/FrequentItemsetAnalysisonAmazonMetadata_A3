{
 "cells": [
  {
   "cell_type": "code",
   "execution_count": null,
   "metadata": {},
   "outputs": [],
   "source": [
    "import json\n",
    "import os\n",
    "from tqdm import tqdm"
   ]
  },
  {
   "cell_type": "code",
   "execution_count": null,
   "metadata": {},
   "outputs": [],
   "source": [
    "def sample_json(inputfile, outputfile, target_size_gb, filter_key='also_buy'):\n",
    "    target_size_bytes = target_size_gb * 1024**3\n",
    "    current_size_bytes=0\n",
    "\n",
    "    with open(inputfile, 'r', encoding='utf-8') as infile, open(outputfile, 'w', encoding='utf-8') as outfile:\n",
    "        for line in tqdm(infile):\n",
    "            record=json.loads(line)\n",
    "\n",
    "            if record.get(filter_key):\n",
    "                outfile.write(json.dumps(record)+'\\n')\n",
    "\n",
    "                current_size_bytes+= len(line.encode('utf-8'))\n",
    "\n",
    "            if current_size_bytes >= target_size_bytes:\n",
    "                break\n",
    "\n",
    "    print(f\"hogaya. output size: {current_size_bytes / 1024**3:.2f} GB\")\n",
    "\n",
    "sample_json('All_Amazon_Meta.json', 'Samplesample.json', 0.5)"
   ]
  }
 ],
 "metadata": {
  "language_info": {
   "name": "python"
  }
 },
 "nbformat": 4,
 "nbformat_minor": 2
}
